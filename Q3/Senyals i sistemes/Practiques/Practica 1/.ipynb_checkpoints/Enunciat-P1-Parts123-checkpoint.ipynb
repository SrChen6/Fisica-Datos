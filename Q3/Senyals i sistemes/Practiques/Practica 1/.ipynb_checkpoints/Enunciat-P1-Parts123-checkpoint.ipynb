{
 "cells": [
  {
   "cell_type": "markdown",
   "id": "907d0a77-1252-4d3c-9dab-5f13827380eb",
   "metadata": {},
   "source": [
    "<h1 align=\"center\">\n",
    "    <strong><u>Senyals i Sistemes - Pràctica 1</u></strong>\n",
    "    <br/><br/>\n",
    "            Operacions bàsiques sobre seqüències: Convolució i correlació\n",
    "<h1/>"
   ]
  },
  {
   "cell_type": "markdown",
   "id": "62cf647a-a71e-4c5a-a6ff-9228f77a8fc9",
   "metadata": {
    "tags": []
   },
   "source": [
    "## Instruccions bàsiques\n",
    "\n",
    "L'enunciat consta d'una sèrie d'explicacions, fragments de codi Python pre-programat i també d'un conjunt de <span style=\"color:red; font-size:16px;\">Qüestions</span>. Aquestes qüestions estan relacionades amb el __Qüestionari Atenea__ associat a la pràctica.\n",
    "\n",
    "  1. Haureu de tenir el __qüestionari obert en paral·lel__ amb aquest document de JupyterLab.\n",
    "  2. Algunes preguntes demanen __dades inicials__. Trobareu aquestes dades a la pregunta corresponent del qüestionari. A cada usuari se li assignen valors diferents.\n",
    "  3. En les zones de codi que estan en blanc, __programareu la vostra solució__ a la qüestió que se us planteja, i __consignareu els resultats__ a les caselles corresponents del qüestionari.\n",
    "  4. En acabar, no oblideu de __tancar__ i enviar el qüestionari perquè sigui corregit."
   ]
  },
  {
   "cell_type": "markdown",
   "id": "d3ba88f1-10bd-4b21-81f5-e820304a9e13",
   "metadata": {
    "tags": []
   },
   "source": [
    "## <span style=\"color:red\">__Qüestió 1__</span> - Identificació dels membres del grup de treball\n",
    "\n",
    "Aneu a la pregunta 1 del qüestionari i indiqueu els membres que formen el grup de treball"
   ]
  },
  {
   "cell_type": "markdown",
   "id": "5b0fb541-cac3-4164-92ba-084c3820e1d7",
   "metadata": {
    "tags": []
   },
   "source": [
    "# <span style=\"color:#BB44DD\">Part 1: Convolució discreta 1D</span>"
   ]
  },
  {
   "cell_type": "markdown",
   "id": "4e8d7961-951b-44c1-9503-5ba76d0e841c",
   "metadata": {
    "tags": []
   },
   "source": [
    "## Introducció\n",
    "\n",
    "En la primera part de la pràctica es treballaran diversos aspectes de la **convolució de senyals**, per tal d'entendre bé el funcionament d'aquesta operació essencial en el processament del senyal."
   ]
  },
  {
   "cell_type": "markdown",
   "id": "5fe68881-605d-4111-8236-40b5bb3328b5",
   "metadata": {},
   "source": [
    "### Preàmbul: Declaració de les biblioteques externes\n",
    "\n",
    "<span style=\"color:red\">Descomenteu una de les 3 opcions de presentació de les gràfiques</span> i executeu el fragment de codi"
   ]
  },
  {
   "cell_type": "code",
   "execution_count": null,
   "id": "3c32da99-4524-4708-ad90-35c9460124f6",
   "metadata": {
    "lines_to_next_cell": 2
   },
   "outputs": [],
   "source": [
    "import numpy as np\n",
    "from scipy.signal import convolve\n",
    "\n",
    "##### 3 maneres diferents de presentar les gràfiques\n",
    "# INLINE: Les gràfiques es pinten just a sota la cel·la que les genera, però no són interactives. \n",
    "#         Útil per crear un PDF autocontingut amb enunciat i resultats\n",
    "#\n",
    "# WIDGET: Similar a l'anterior però les gràfiques són interactives i redimensionables.\n",
    "#         - Si obrim moltes gràfiques simultànies es pot queixer per manca de recursos\n",
    "#         - Cal instal·lar el paquet 'ipympl' (no ve per defecte) per tal que funcioni\n",
    "#\n",
    "#     QT: Cada gràfica es crea en una finestra a part.\n",
    "#         És l'opció més flexible però també dificulta documentar els resultats\n",
    "#\n",
    "# DESCOMENTEU UNA DE LES TRES OPCIONS  <<<<<<<<<<<<<<<<<<<<<<<<<<<<<<<<<<<<<<<<<<<\n",
    "#%matplotlib inline\n",
    "#%matplotlib widget \n",
    "#%matplotlib qt\n",
    "import matplotlib.pyplot as plt\n",
    "\n",
    "# Fem la mida per defecte dels plots una mica més gran\n",
    "plt.rcParams['figure.figsize'] = [10, 8]\n",
    "plt.rcParams['figure.dpi'] = 80\n",
    "\n",
    "def plotconv(Tx, Th, Ty):\n",
    "    \"\"\"\n",
    "    Presenta les gràfiques dels 3 senyals típics en una convolució («x», «h» i «y») apilats de manera que es puguin apreciar bé les seves relacions temporals\n",
    "    \n",
    "    Paràmetres:\n",
    "      Tx: Una TUPLA (x,nx) que conté, en aquest ordre, el senyal «x» i la seqüencia d'índexs associada, «nx».\n",
    "      Th: Una TUPLA (h,nh) que conté, en aquest ordre, el senyal «h» i la seqüencia d'índexs associada, «nh».\n",
    "      Ty: Una TUPLA (y,ny) que conté, en aquest ordre, el senyal «y» i la seqüencia d'índexs associada, «ny».\n",
    "      \n",
    "      Òbviament, els dos vectors de cada TUPLA han de tenir la MATEIXA LONGITUD.\n",
    "      \n",
    "    Retorna: Res (però dibuixa les 3 gràfiques)\n",
    "    \"\"\"\n",
    "    fig, (axX, axH, axY) = plt.subplots(3, 1, sharex=True, constrained_layout=True)\n",
    "    axX.stem(Tx[1], Tx[0])\n",
    "    axX.grid(True)\n",
    "    axX.set_ylabel('x[n]')\n",
    "    axX.set_title('Entrada')\n",
    "    axH.stem(Th[1], Th[0])\n",
    "    axH.grid(True)\n",
    "    axH.set_ylabel('h[n]')\n",
    "    axH.set_title('Resposta impulsional')\n",
    "    axY.stem(Ty[1], Ty[0])\n",
    "    axY.grid(True)\n",
    "    axY.set_ylabel('y[n]')\n",
    "    axY.set_xlabel('n')\n",
    "    axY.set_title('Sortida')\n",
    "\n",
    "\n",
    "# ASSIGNEU valors a les variables segons les dades de la pregunta 2 del qüestionari.\n",
    "Nmin = -10\n",
    "Nmax = 20\n",
    "\n",
    "# Definim el vector d'índexs amb les dades que ens han tocat. Aquest vector servirà tant pel senyal x[n] com per h[n]\n",
    "n = np.arange(Nmin, Nmax+1)       # La funció «arange(a,b)» genera valors des de «a» fins a «b-1»\n",
    "\n",
    "# CALCULEU: Quina és la longitud M del vector n?\n",
    "M = Nmax - Nmin + 1\n",
    "\n",
    "# GENEREU els senyals x1, x2, h1 i h2 com a arrays NumPy de manera que representin els senyals demanats. \n",
    "# Baseu-vos en el model que es dóna pel senyal x2\n",
    "x1 = 1.0 * (n >= 0) - 1.0 * (n >= 6)\n",
    "x2 = 1.0 * (n >= 0)     # (n >= 0) dóna «True» (equivalent a 1) quan n>=0 i «False» (equivalent a 0) altrament.\n",
    "h1 = 1.0 * (n >= 0)\n",
    "h2 = 1.0 * (n == 0) - 1.0 * (n == 1)\n",
    "\n",
    "print(x1)\n",
    "print(x2)\n",
    "print(h1)\n",
    "print(h2)\n",
    "\n",
    "# CALCULEU les 4 convolucions demanades usant la funció «convolve(x1,x2)» del paquet «scipy» que s'ha importat al principi\n",
    "y11 = convolve(x1, h1)\n",
    "y12 = convolve(x1, h2)\n",
    "y21 = convolve(x2, h1)\n",
    "y22 = convolve(x2, h2)\n",
    "\n",
    "# ESCRIVIU la instrucció per obtenir la longitud L dels vectors obtinguts\n",
    "L = len(y11)\n",
    "\n",
    "# GENEREU un vector d'índexs adequat a les convolucions que acabeu de calcular\n",
    "# (Proveu les diferents combinacions que us suggereix la pregunta 2 del qüestionari i escolliu la correcta)\n",
    "ny = np.arange(2 * Nmin, 2 * Nmax + 1)\n",
    "\n",
    "# Finalment, PINTEU les gràfiques dels 4 casos segons el model que s'indica pel primer cas\n",
    "plotconv( (x1,n), (h1,n), (y11,ny) )\n",
    "plotconv( (x1,n), (h2,n), (y12,ny) )\n",
    "plotconv( (x2,n), (h1,n), (y21,ny) )\n",
    "plotconv( (x2,n), (h2,n), (y22,ny) )\n",
    "\n",
    "plt.show()"
   ]
  },
  {
   "cell_type": "markdown",
   "id": "3f0db2c3-3c72-4940-b9d3-2b8ce5134a5a",
   "metadata": {},
   "source": [
    "### Preàmbul: Definició de funcions útils\n",
    "\n",
    "Executeu el fragment de codi. Fixeu-vos en com es declara la funció i com se li han de passar els paràmetres."
   ]
  },
  {
   "cell_type": "code",
   "execution_count": null,
   "id": "9738431c-9cde-42db-a9d8-3a9961d21747",
   "metadata": {},
   "outputs": [],
   "source": [
    "def plotconv(Tx, Th, Ty):\n",
    "    \"\"\"\n",
    "    Presenta les gràfiques dels 3 senyals típics en una convolució («x», «h» i «y») apilats de manera que es puguin apreciar bé les seves relacions temporals\n",
    "    \n",
    "    Paràmetres:\n",
    "      Tx: Una TUPLA (x,nx) que conté, en aquest ordre, el senyal «x» i la seqüencia d'índexs associada, «nx».\n",
    "      Th: Una TUPLA (h,nh) que conté, en aquest ordre, el senyal «h» i la seqüencia d'índexs associada, «nh».\n",
    "      Ty: Una TUPLA (y,ny) que conté, en aquest ordre, el senyal «y» i la seqüencia d'índexs associada, «ny».\n",
    "      \n",
    "      Òbviament, els dos vectors de cada TUPLA han de tenir la MATEIXA LONGITUD.\n",
    "      \n",
    "    Retorna: Res (però dibuixa les 3 gràfiques)\n",
    "    \"\"\"\n",
    "    fig, (axX, axH, axY) = plt.subplots(3, 1, sharex=True, constrained_layout=True)\n",
    "    axX.stem(Tx[1], Tx[0])\n",
    "    axX.grid(True)\n",
    "    axX.set_ylabel('x[n]')\n",
    "    axX.set_title('Entrada')\n",
    "    axH.stem(Th[1], Th[0])\n",
    "    axH.grid(True)\n",
    "    axH.set_ylabel('h[n]')\n",
    "    axH.set_title('Resposta impulsional')\n",
    "    axY.stem(Ty[1], Ty[0])\n",
    "    axY.grid(True)\n",
    "    axY.set_ylabel('y[n]')\n",
    "    axY.set_xlabel('n')\n",
    "    axY.set_title('Sortida')\n"
   ]
  },
  {
   "cell_type": "markdown",
   "id": "2923ac18-9664-4ebc-a3f1-6bd38d169fd1",
   "metadata": {
    "tags": []
   },
   "source": [
    "## <span style=\"color:red\">__Qüestió 2__</span> - Visualització de les convolucions amb Python\n",
    "\n",
    "Siguin els senyals següents:\n",
    "\n",
    "  - $x_1[n] = p_6[n]$ (pols rectangular de longitud 6 mostres)\n",
    "  - $x_2[n] = u[n]$\n",
    "\n",
    "i els sistemes amb resposta impulsional:\n",
    "\n",
    "  - $h_1[n] = u[n]$\n",
    "  - $h_2[n] = \\delta[n] - \\delta[n-1]$\n",
    "  \n",
    "En aquest exercici es tracta de calcular __per simulació amb python__ la resposta de cadascun dels 2 sistemes a cadascuna de les 2 entrades, és a dir:\n",
    "\n",
    "  - $y_{11}[n] = x_1[n] * h_1[n]$\n",
    "  - $y_{12}[n] = x_1[n] * h_2[n]$\n",
    "  - $y_{21}[n] = x_2[n] * h_1[n]$\n",
    "  - $y_{22}[n] = x_2[n] * h_2[n]$\n",
    "\n",
    "Si no ho heu fet ja a classe, calculeu teòricament el resultat de les 4 convolucions anteriors.\n",
    "\n",
    "Completeu i executeu el fragment de codi de la cel·la següent. A la vista del resultat, __escolliu la resposta correcta a la pregunta 2 del qüestionari__."
   ]
  },
  {
   "cell_type": "code",
   "execution_count": null,
   "id": "778da9ac-1b3d-43cc-a1e8-0d6c812bbd73",
   "metadata": {
    "tags": []
   },
   "outputs": [],
   "source": [
    "# ASSIGNEU valors a les variables segons les dades de la pregunta 2 del qüestionari.\n",
    "Nmin = \n",
    "Nmax = \n",
    "\n",
    "# Definim el vector d'índexs amb les dades que ens han tocat. Aquest vector servirà tant pel senyal x[n] com per h[n]\n",
    "n = np.arange(Nmin, Nmax+1)       # La funció «arange(a,b)» genera valors des de «a» fins a «b-1»\n",
    "\n",
    "# CALCULEU: Quina és la longitud M del vector n?\n",
    "M = \n",
    "\n",
    "# GENEREU els senyals x1, x2, h1 i h2 com a arrays NumPy de manera que representin els senyals demanats. \n",
    "# Baseu-vos en el model que es dóna pel senyal x2\n",
    "x1 =\n",
    "x2 = 1.0 * (n >= 0)     # (n >= 0) dóna «True» (equivalent a 1) quan n>=0 i «False» (equivalent a 0) altrament.\n",
    "h1 =\n",
    "h2 =\n",
    "\n",
    "# CALCULEU les 4 convolucions demanades usant la funció «convolve(x1,x2)» del paquet «scipy» que s'ha importat al principi\n",
    "y11 = \n",
    "y12 = \n",
    "y21 = \n",
    "y22 = \n",
    "\n",
    "# ESCRIVIU la instrucció per obtenir la longitud L dels vectors obtinguts\n",
    "L = \n",
    "\n",
    "# GENEREU un vector d'índexs adequat a les convolucions que acabeu de calcular\n",
    "# (Proveu les diferents combinacions que us suggereix la pregunta 2 del qüestionari i escolliu la correcta)\n",
    "ny = np.arange( ... )\n",
    "\n",
    "# Finalment, PINTEU les gràfiques dels 4 casos segons el model que s'indica pel primer cas\n",
    "plotconv( (x1,n), (h1,n), (y11,ny) )\n",
    "plotconv( ... )\n",
    "plotconv( ... )\n",
    "plotconv( ... )"
   ]
  },
  {
   "cell_type": "markdown",
   "id": "bd591572-826e-4743-a283-3dcf448ca085",
   "metadata": {
    "tags": []
   },
   "source": [
    "## <span style=\"color:red\">__Qüestió 3__</span> - Vector d'índexs de la sortida\n",
    "\n",
    "Si escriviu \n",
    "\n",
    "``` python\n",
    "ny = np.arange(2*min(n), 2*max(n) + 1)\n",
    "```\n",
    "\n",
    "podeu visualitzar correctament el resultat? Repetiu la qüestió 2 amb «`ny`» definit d'aquesta manera i __escolliu la resposta correcta al qüestionari__."
   ]
  },
  {
   "cell_type": "markdown",
   "id": "6c49d895-9045-4073-b1ed-c178c2245b51",
   "metadata": {},
   "source": [
    "### >>> Comenteu la vostra resposta:"
   ]
  },
  {
   "cell_type": "markdown",
   "id": "f05057aa-098b-44c4-8278-fac25c081d79",
   "metadata": {
    "tags": []
   },
   "source": [
    "## <span style=\"color:red\">__Qüestió 4__</span> - Validesa del càlcul numèric\n",
    "\n",
    "Observeu atentament els resultats obtinguts via càlcul numèric de la convolució amb Python i compareu-los amb els resultats teòrics calculats a l'estudi previ. Coincideixen o difereixen?\n",
    "\n",
    "A partir de les vostres conclusions, __responeu la pregunta del qüestionari__."
   ]
  },
  {
   "cell_type": "markdown",
   "id": "bdb64640-6d52-488c-94a3-e092cebba744",
   "metadata": {},
   "source": [
    "### >>> Comenteu la vostra resposta:"
   ]
  },
  {
   "cell_type": "markdown",
   "id": "eea38d70-2eec-4c72-a607-3171f308250c",
   "metadata": {},
   "source": [
    "___"
   ]
  },
  {
   "cell_type": "markdown",
   "id": "8f4e7d51-c57b-4834-b4f8-dac829ada6f7",
   "metadata": {
    "tags": []
   },
   "source": [
    "# <span style=\"color:#BB44DD\">Part 2: Implicacions de la (no) causalitat</span>\n",
    "##  <span style=\"color:#BB44DD\">Aplicació a la reducció de les variacions ràpides d'un senyal</span>"
   ]
  },
  {
   "cell_type": "markdown",
   "id": "f6722291-fc24-4404-84a9-5f373554c7cb",
   "metadata": {
    "tags": []
   },
   "source": [
    "## Introducció\n",
    "\n",
    "En aquesta part aplicarem un filtre de «mitjana» (concretament, de mitjana mòbil) per tal d'eliminar les fluctuacions ràpides i visualitzar millor la tendència de les dades del fitxer Ibex35.csv. Usarem el paquet __Pandas__ per a llegir el fitxer i generar un DataFrame, df, amb columnes per a la data i el preu al tancament de l'índex borsari IBEX 35 (una mostra per dia).\n",
    "\n",
    "Les dades borsàries estan agafades d'una [pàgina web](https://es.finance.yahoo.com/quote/%5EIBEX/history/) que proporciona l'històric de valors de l'Íbex 35. Per tant, són dades reals però a les quals hem aplicat un __tractament previ__ per facilitar el seu ús en aquesta pràctica. El que s'ha fet és:\n",
    "\n",
    "  - Reduir el nombre de columnes al mínim necessari.\n",
    "  - Truncar les dades __<span style=\"color:red;\">fent que la data inicial sigui el dia 1 de gener de 2000</span>__. De cara als objectius docents que volem assolir serà un nombre més que suficient.\n",
    "  - Completar els dies que faltaven. Com sabeu, els caps de setmana i festius la borsa no opera (no hi ha dades) i això fa que els valors del fitxer no estiguin equiespaiats. Per tal d'evitar malentesos, hem completat els valors que falten a base d'extendre el valor de tancament del darrer dia operatiu.\n",
    "\n",
    "__Baixeu el fitxer `Ibex35.csv` al vostre ordinador__ i deseu-lo a la mateixa carpeta on teniu aquest _Notebook_. Si doneu un cop d'ull al contingut del fitxer, observareu que té 2 columnes de dades:\n",
    "\n",
    "  - «Data»:       Data en format YYYY-MM-DD\n",
    "  - «Tancament»:  Valor de l'índex al tancament de la sessió\n",
    "\n",
    "La __primera fila__ conté els __noms__ de les columnes.\n",
    "\n",
    "Executeu el codi següent per tal de llegir el fitxer i emmagatzemar-lo en una variable interna:"
   ]
  },
  {
   "cell_type": "markdown",
   "id": "a9a30bc6-5e7d-4962-9050-eabbe78ba2dc",
   "metadata": {},
   "source": [
    "### Declaració de les biblioteques usades i lectura de les dades"
   ]
  },
  {
   "cell_type": "code",
   "execution_count": null,
   "id": "d8b86685-5c6b-4aa4-a5ac-ced66d370145",
   "metadata": {},
   "outputs": [],
   "source": [
    "import pandas as pd\n",
    "\n",
    "dades = pd.read_csv(\n",
    "    'Ibex35.csv',                     # Fitxer de dades (ha d'estar a la mateixa carpeta que aquest Notebook, o indicar la ruta)\n",
    "    delimiter = ',',                  # Els camps estan delimitats per comes\n",
    "    header = 0,                       # 1a. fila conté noms de les columnes\n",
    "    usecols = ['Data', 'Íbex'],  # Seleccionem columnes concretes (totes, en aquest cas)\n",
    "    index_col = 'Data',               # 1a. columna (dates) serà l'índex\n",
    "    parse_dates = ['Data'],           # Interpreta i converteix les dates\n",
    ")\n",
    "\n",
    "# Visualitzem un fragment de la taula. Fixeu-vos en les dates inicial i final de l'interval\n",
    "dades"
   ]
  },
  {
   "cell_type": "markdown",
   "id": "90d9baf4-35e1-416d-a99f-8c734907da00",
   "metadata": {},
   "source": [
    "Dibuixem la gràfica de la sèrie temporal. Podem usar la funció `plot` de `Matplotlib`, però en aquest cas és més senzill usar la funció `plot` incorporada al `Pandas`, que s'encarrega de tots els detalls (llegenda, etiquetes, eix d'abscisses, etc.) per nosaltres:"
   ]
  },
  {
   "cell_type": "code",
   "execution_count": null,
   "id": "2d7339a2-f64e-4633-a6ce-4e77eaea4816",
   "metadata": {},
   "outputs": [],
   "source": [
    "tmp = dades.plot(grid=True, title=\"Valor de l'Íbex 35 (2000-2024)\")     # Dibuix automàtic. L'assignació del «resultat» a la variable 'tmp' és simplement per evitar la impressió d'un missatge per pantalla."
   ]
  },
  {
   "cell_type": "markdown",
   "id": "766ef2b7-ae96-40e9-8a13-e38571faf7e2",
   "metadata": {},
   "source": [
    "## <span style=\"color:red\">__Qüestió 5__</span> - Definició de la mitjana mòbil\n",
    "\n",
    "La mitjana mòbil d'ordre M d'un senyal discret x[n] proporciona en cada instant la mitjana aritmètica entre el valor actual de l'entrada i els M-1 valors anteriors:\n",
    "\n",
    "\\begin{equation}\n",
    "  y[n] = \\frac{1}{M}\\sum_{k=0}^{M-1} x[n-k] \\tag{1}\n",
    "\\end{equation}\n",
    "\n",
    "\n",
    "Atès que l'equació de convolució és $y[n] = \\sum_{k=-\\infty}^{\\infty} h[k]\\cdot x[n-k]$, reflexioneu quina hauria de ser la resposta impulsional que caracteritza la mitjana mòbil i, en acabat, __ompliu les caselles de la Qüestió 5 del qüestionari__."
   ]
  },
  {
   "cell_type": "markdown",
   "id": "5b633806-2a6b-4122-9294-4fe14f94c761",
   "metadata": {},
   "source": [
    "## <span style=\"color:red\">__Qüestió 6__</span> - Càlcul i experimentació amb mitjanes mòbils d'ordres diversos\n",
    "\n",
    "En el fragment de codi següent, calculeu les respostes impulsionals de 3 sistemes que calculen la mitjana mòbil amb M=7 (una setmana), M=91 (un trimestre) i M=365 (un any). Anomenarem a aquestes respostes impulsionals `hs`, `ht`i `ha` respectivament.\n",
    "\n",
    "Seguidament, feu la convolució de cadascuna d'aquestes respostes impulsionals amb les dades de l'Íbex. Per tal d'__extreure les dades__ del DataFrame en forma d'array NumPy, utilitzeu la propietat `values` del DataFrame tal i com es mostra al codi adjunt. També és útil __extreure els valors de l'eix d'abcisses__ (dates) per poder-los usar posteriorment per dibuixar les dades; això es fa amb la propietat `index` del DataFrame."
   ]
  },
  {
   "cell_type": "code",
   "execution_count": null,
   "id": "949b52c7-1037-4de8-ae3a-72c94be47e44",
   "metadata": {
    "tags": []
   },
   "outputs": [],
   "source": [
    "# Extracció de les dades de DataFrame en vectors individuals\n",
    "x = dades['Íbex'].values        # Extraiem les dades (valors de l'Íbex)\n",
    "n_x = dades['Íbex'].index       # Extraiem també el vector de dates associat al vector anterior (l'utilitzarem més endavant)\n",
    "\n",
    "# GENEREU les respostes impulsionals demanades\n",
    "hs =                # Mitjana setmanal (M = 7)\n",
    "ht =                # Mitjana trimestral (M = 91)\n",
    "ha =                # Mitjana anual (M = 365)\n",
    "\n",
    "# CALCULEU per cada cas les convolucions amb les dades de l'íbex per tal de computar les mitjanes mòbils setmanals, trimestrals i anuals.\n",
    "ys = \n",
    "yt = \n",
    "ya = "
   ]
  },
  {
   "cell_type": "markdown",
   "id": "38416e49-0036-434d-ace2-5790d0e9f609",
   "metadata": {},
   "source": [
    "### Visualització de resultats\n",
    "\n",
    "Ara volem visualitzar __SUPERPOSADES__ (per facilitar la seva comparació) les 2 gràfiques següents:\n",
    "\n",
    "  1. La gràfica dels valors de l'Íbex en funció del temps\n",
    "  2. La gràfica de la mitjana mòbil de les dades anteriors, en funció del temps\n",
    "  \n",
    "Tanmateix, el problema immediat que tenim a l'hora de fer aquesta visualització és __quin vector de temps hem d'assignar a la resposta__. Per tal de reflexionar-hi, proveu de respondre mentalment les qüestions següents:\n",
    "\n",
    "  * Les seqüències $x[n]$, $y_s[n]$, $y_t[n]$ i $y_a[n]$, tenen totes la mateixa __longitud__? (podeu usar la funció `len()` per comprovar-ho)\n",
    "  * A quina __data__ correspon la _primera mostra_ de cada seqüència $y_i[n]$?\n",
    "  \n",
    "### Generació del vector de dates\n",
    "\n",
    "La funció `date_range` del __Pandas__ permet de generar un array de dates correlatives amb certs valors inicials, finals, increments, etc. Pels nostres interessos els paràmetres importants són `start` (data inicial), `freq` (cada quan tenim un valor, que per nosaltres serà '1D' = un valor per dia) i `periods` (nombre de valors a generar).\n",
    "\n",
    "Amb aquesta informació, genereu els vectors de dates necessaris per acompanyar els senyals ys, yt i ya calculats anteriorment:"
   ]
  },
  {
   "cell_type": "code",
   "execution_count": null,
   "id": "610edfe4-4c6d-470b-8750-d92317145178",
   "metadata": {},
   "outputs": [],
   "source": [
    "# GENEREU els vectors de dates demanats usant la funció «date_range» de Pandas\n",
    "n_ys = pd.date_range( ... )\n",
    "n_yt = \n",
    "n_ya = "
   ]
  },
  {
   "cell_type": "markdown",
   "id": "6e556ebd-3f95-45c2-8e7a-afe77826c141",
   "metadata": {},
   "source": [
    "Finalment, pinteu les figures usant la funció auxiliar definida a continuació:"
   ]
  },
  {
   "cell_type": "code",
   "execution_count": null,
   "id": "ce0678bd-ab16-45d6-b5c9-72d3d0ee434b",
   "metadata": {
    "tags": []
   },
   "outputs": [],
   "source": [
    "def plotibex(Tx, Ty, mitjana):\n",
    "    \"\"\"\n",
    "    Presenta 2 gràfiques SUPERPOSADES corresponents a les dades de l'íbex («x») i la seva mitjana mòbil («y»)\n",
    "    \n",
    "    Paràmetres:\n",
    "      Tx: Una TUPLA (x,nx) que conté, en aquest ordre, el senyal «x» i la seqüencia d'índexs associada, «nx».\n",
    "      Ty: Una TUPLA (y,ny) que conté, en aquest ordre, el senyal «y» i la seqüencia d'índexs associada, «ny».\n",
    "      mitjana: Una de les 3 CADENES DE CARÀCTERS 'setmanal', 'trimestral' o 'anual' que indica la profunditat de la mitjana mòbil.\n",
    "      \n",
    "      Òbviament, els dos vectors de cada TUPLA han de tenir la MATEIXA LONGITUD.\n",
    "      \n",
    "    Retorna: Res (però dibuixa les 2 gràfiques superposades)\n",
    "    \"\"\"\n",
    "    if mitjana not in {'setmanal','trimestral','anual'}:\n",
    "        missatge = \"Heu d'assignar al paràmetre «mitjana» el valor 'setmanal','trimestral' o 'anual'\"\n",
    "        print(missatge)\n",
    "        raise Exception(missatge)\n",
    "    fig, ax = plt.subplots(1, 1)\n",
    "    ax.plot(Tx[1], Tx[0], label='Dades diàries')\n",
    "    ax.plot(Ty[1], Ty[0], label='Mitjana {}'.format(mitjana))\n",
    "    ax.grid(True)\n",
    "    ax.set_ylabel('Ibex 35')\n",
    "    titol = \"Dades de l'íbex (real i mitjana {})\".format(mitjana)\n",
    "    ax.set_title(titol)\n",
    "    ax.legend()"
   ]
  },
  {
   "cell_type": "code",
   "execution_count": null,
   "id": "068a7ff9-293a-4eef-8d14-05cdd8f266db",
   "metadata": {},
   "outputs": [],
   "source": [
    "# PINTEU les dades de l'íbex i les seves mitjanes usant la funció «plotibex»\n",
    "plotibex( ... )    # Setmanal\n",
    "plotibex( ... )    # Trimestral\n",
    "plotibex( ... )    # Anual"
   ]
  },
  {
   "cell_type": "markdown",
   "id": "5ecbd93d-e015-4499-865b-d9bb55dc5d4c",
   "metadata": {},
   "source": [
    "__Finalment, RESPONEU la Qüestió 6__ del qüestionari."
   ]
  },
  {
   "cell_type": "markdown",
   "id": "7b8e0403-c7c7-4cc5-9296-7c5885dd8d1c",
   "metadata": {},
   "source": [
    "## <span style=\"color:red\">__Qüestió 7__</span> - Alineació entre entrada i sortida\n",
    "\n",
    "A la vista de les gràfiques que acabeu d'obtenir, reflexioneu sobre les següents qüestions:\n",
    "\n",
    "  1. Creieu que l'entrada i la sortida estan aliniades?\n",
    "  2. En cas negatiu, quin pot ser el motiu del desajustament?\n",
    "\n",
    "La manca d'alineació entre les dades i la mitjana, en cas que existeixi, és més senzilla de detectar en les zones on les dades tenen un màxim o un mínim, perquè intuïtivament voldríem que la mitjana també tingués un màxim o un mínim en el mateix punt.\n",
    "\n",
    "  3. Podeu donar un valor aproximat, per inspecció visual, del desalineament entre les dades diàries i les mitjanes? (us pot ser útil fer _zoom_ al voltant d'algun màxim)\n",
    "  4. El valor del desaliniament té alguna relació amb la longitud M de la mitjana mòbil?\n",
    "  \n",
    "Després d'aquestes reflexions, __responeu la pregunta 7 del qüestionari__."
   ]
  },
  {
   "cell_type": "markdown",
   "id": "61d26905-db92-4df5-b48b-47c95b8cb1c9",
   "metadata": {},
   "source": [
    "## <span style=\"color:red\">__Qüestió 8__</span> - Mitjana mòbil centrada\n",
    "\n",
    "\n",
    "Una mitjana mòbil __centrada__ d'ordre M d'un senyal discret x[n] calcula en cada instant la mitjana aritmètica entre el valor actual de l'entrada i un nombre igual de valors anteriors i posteriors a aquest:\n",
    "\n",
    "\\begin{equation}\n",
    "  y[n] = \\frac{1}{M}\\cdot\\displaystyle\\sum_{k=-\\frac{M-1}{2}}^{\\frac{M-1}{2}} x[n-k] \\tag{2}\n",
    "\\end{equation}\n",
    "\n",
    "Atès que l'equació de convolució és $y[n] = \\sum_{k=-\\infty}^{\\infty} h[k]\\cdot x[n-k]$,\n",
    "podem aconseguir implementar l'equació (1) si fem que la resposta\n",
    "impulsional del filtre sigui un *pols rectangular* de longitud M i \n",
    "amplitud $\\frac{1}{M}$, però aquest cop __centrat a l'origen de coordenades__, és a dir, __desplaçat (M-1)/2 mostres cap a l'esquerra__.\n",
    "\n",
    "\\begin{equation}\n",
    "  h[n] = \\frac{1}{M} \\cdot p_M\\bigg[n + \\frac{M-1}{2}\\bigg] \n",
    "\\end{equation}\n",
    "\n",
    "Tenint en compte aquestes consideracions, __responeu la pregunta 8 del qüestionari__."
   ]
  },
  {
   "cell_type": "markdown",
   "id": "f0a942a8-fcf1-4346-a79f-6e4ab2abbee8",
   "metadata": {},
   "source": [
    "## <span style=\"color:red\">__Qüestió 9__</span> - Implementació en Python de la mitjana mòbil centrada\n",
    "\n",
    "Com ja sabeu, els «arrays» NumPy comencen sempre a l'índex 0. Per tant, no podem implementar directament amb ells respostes impulsionals no causals.\n",
    "\n",
    "De tota manera, a la primera part de la pràctica hem vist que la causalitat o no d'un senyal discret emmagatzemat a l'ordinador com una seqüència de valors __és una qüestió d'interpretació__: <span style=\"color:red\">en funció del vector de temps que associem a la seqüència, aquesta pot representar un senyal causal o no causal</span>. Alhora, recordeu una propietat important de la convolució de seqüències discretes:\n",
    "\n",
    "> En una convolució $y[n] = x[n] * h[n]$, l'__índex__ de la primera mostra no nul·la del senyal de sortida $y[n]$ és la __suma dels índexs__ de les primeres mostres no nul·les dels senyals $x[n]$ i $h[n]$.\n",
    "\n",
    "D'altra banda, si no voleu jugar amb els índexs, una altra opció és __ajustar el nombre de mostres al principi__ de les seqüències per tal de desplaçar-les visualment.\n",
    "\n",
    "Tenint en compte aquestes consideracions, feu algunes proves a les cel·les de codi adjacents i __responeu la pregunta 9 del qüestionari__."
   ]
  },
  {
   "cell_type": "code",
   "execution_count": null,
   "id": "5e209e75-51d9-490a-a7c4-af3d4a068f4e",
   "metadata": {},
   "outputs": [],
   "source": [
    "# Aliniament pel mètode 1: creació d'un vector d'índexs adient\n",
    "\n",
    "from datetime import date,timedelta          # Necessari per treballar amb dates i increments de dates\n",
    "INICIAL = date(2000, 1, 1)                   # Data inicial de les dades d'entrada\n",
    "M = 365                                      # Longitud de la mitjana mòbil anual (en dies)\n",
    "OFFSET = timedelta(days= ... )       # <<<<<<<<< INDIQUEU el nombre de dies a sumar/restar (cas que tingui signe negatiu) a l'índex per centrar la mitjana\n",
    "n_ya = pd.date_range(start=INICIAL+OFFSET, freq='1D', periods=len(ya))   # Creem el vector d'índexs amb la data inicial i longitud adients\n",
    "plotibex( (x,n_x), (ya,n_ya), 'anual' )"
   ]
  },
  {
   "cell_type": "code",
   "execution_count": null,
   "id": "b85a2b62-f7f7-4edc-b007-1a487c34b64c",
   "metadata": {},
   "outputs": [],
   "source": [
    "# Aliniament pel mètode 2: retocar el nombre de zeros de la sortida\n",
    "\n",
    "ya2 = .....       # CREEU un nou vector «ya» afegint zeros/eliminant mostres al principi per tal que les seves mostres quedin aliniades amb les de l'entrada\n",
    "\n",
    "# Recalculem un nou vector d'índexs ja que el nombre de mostres ha canviat\n",
    "# (Una alternativa és retallar també zeros del final, per tal que la longitud de la sortida coincideixi amb la de l'entrada)\n",
    "n_ya2 = pd.date_range(start='1/1/2000', freq='1D', periods=len(ya2))\n",
    "plotibex( (x,n_x), (ya2,n_ya2), 'anual' )"
   ]
  },
  {
   "cell_type": "markdown",
   "id": "7b2e46bc-aaca-4944-8601-f421754d10c4",
   "metadata": {},
   "source": [
    "___"
   ]
  },
  {
   "cell_type": "markdown",
   "id": "bd5e5486-c662-44a2-9530-79263295d86f",
   "metadata": {},
   "source": [
    "# <span style=\"color:#BB44DD\">Part 3: Correlació</span>\n",
    "\n",
    "## Introducció\n",
    "\n",
    "La __correlació__ és una operació útil per detectar similituds entre senyals (tant si estan alineats en el temps com si no) i per cercar patrons dins d'un senyal. Això té moltes aplicacions pràctiques com ara comunicacions, astronomia, medicina, economia i un llarg etcètera. Així mateix, l'__autocorrelació__ (és a dir, la correlació entre un senyal i ell mateix) pot ser útil per tal d'estimar periodicitats.\n",
    "\n",
    "En aquesta part utilitzarem la correlació per localitzar automàticament un determinat patró, $p[n]$, dins d'un senyal $x[n]$: la posició el __màxim__ de la correlació entre $x[n]$ i $p[n]$ indicarà la ubicació del patró dins del senyal.\n",
    "\n",
    "Explicat breument, per fer la correlació col·loquem el patró «a sobre» del senyal a explorar i fem la suma del producte mostra a mostra de les parts que se solapen. La idea és que si les parts que se solapen són iguals, la suma del producte serà màxima en aquella posició.\n",
    "\n",
    "Matemàticament la correlació $r_{xp}$ entre els senyals $x$ i $p$ (que aquí suposarem reals) es defineix com:\n",
    "\n",
    "\\begin{equation}\n",
    "  r_{xp}[n] = \\sum_{k=-\\infty}^{\\infty}x[k] p[k-n]\n",
    "\\end{equation}\n",
    "\n",
    "Com es pot apreciar, l'operació de la correlació té notables similituds amb la de la convolució. De fet es pot demostrar que:\n",
    "\n",
    "$$\n",
    "  r_{xp}[n] = x[n] * p[-n]\n",
    "$$\n",
    "\n",
    "És a dir que calcular una correlació entre 2 senyals és el mateix que fer la seva convolució però __sense «girar» el segon senyal__. Això permet implementar la correlació com la sortida d'un sistema LTI amb resposta impulsional $h[n] = p[-n]$. Aquest sistema rep el nom de __filtre adaptat__.\n",
    "\n",
    "Potser la correlació no és la manera més eficient de cercar un patró dins d'una seqüència, però el __gran avantatge__ de la correlació és que __funciona encara que la versió del patró dins del senyal no sigui *exactament* igual al patró original__; per exemple, en presència de __soroll__. És un mètode molt útil, per exemple, per decidir en quin moment hem de començar a extreure la informació d'un senyal del qual es desconeix en quin instant comença."
   ]
  },
  {
   "cell_type": "markdown",
   "id": "157dc62f-40b0-41cc-9b87-19f513b758f1",
   "metadata": {},
   "source": [
    "## Lectura de les dades\n",
    "\n",
    "El fitxer `senyals.npy` conté 15 seqüències. Cadascuna d'elles té longitud 1024 i conté una o més instàncies d'un patró p[n]. Utilitzarem la correlació per a localitzar de manera automàtica el patró dins d'un dels 15 senyals esmentats, x[n].\n",
    "\n",
    "Primer de tot:\n",
    "\n",
    "  * Descarregueu el fitxer `senyals.npy` de la pàgina web i deseu-lo a la mateixa carpeta que aquest _Notebook_.\n",
    "  * Executeu el següent codi per tal de carregar la biblioteca adient, llegir les dades en una variable i definir el patró de cerca"
   ]
  },
  {
   "cell_type": "code",
   "execution_count": null,
   "id": "acdf595b-d4bb-4108-a324-332fab89b5ee",
   "metadata": {},
   "outputs": [],
   "source": [
    "# Importem la funció «correlate» de la biblioteca SciPy\n",
    "from scipy.signal import correlate\n",
    "\n",
    "# Carreguem els senyals. \n",
    "senyals = np.load('senyals.npy')\n",
    "\n",
    "# Definim el patró i calculem la seva longitud. Serà útil més endavant.\n",
    "patro = np.array([1, -1, -1, 1, 1, 1, -1, 1, -1, -1, 1, 1, 1])\n",
    "M = len(patro)\n",
    "print('La longitud del patró és de {} mostres'.format(M))"
   ]
  },
  {
   "cell_type": "markdown",
   "id": "7727267c-d3f3-46b1-b11c-7bea2ea0fa4b",
   "metadata": {},
   "source": [
    "## <span style=\"color:red\">__Qüestió 10__</span> - Cercant un patró dins d'un senyal\n",
    "\n",
    "Seguiu les instruccions de la Pregunta 11 per tal de seleccionar una de les 15 seqüències i cercar el patró dins la seqüència escollida. __Introduïu a la casella el valor de l'índex del primer element del patró dins la seqüència indicada__. \n",
    "\n",
    "Podeu usar la convolució o calcular directament la correlació. Tingueu en compte que les funcions `convolve` i `correlate` accepten un __paràmetre «mode»__ que pot prendre els valors de `full`, `same` i `valid`. __Llegiu la documentació__ de la funció (help correlate) i penseu quin dels tres convé més a les vostres necessitats. Experimenteu."
   ]
  },
  {
   "cell_type": "code",
   "execution_count": null,
   "id": "1430b40f-c215-48b5-bd92-dc6db5a4d84a",
   "metadata": {},
   "outputs": [],
   "source": [
    "# Escollim la seqüència \n",
    "seq = 0         # *** CANVIEU AQUEST VALOR SEGONS L'ENUNCIAT DE LA PREGUNTA ***\n",
    "x = senyals[seq]\n",
    "\n",
    "# Busqueu el patró dins el senyal «x»\n",
    "\n",
    "# Imprimiu el resultat\n",
    "print('El patró es troba a la posició {} dins del senyal'.format(...))"
   ]
  },
  {
   "cell_type": "markdown",
   "id": "e1fc87c8-01ce-4d39-aa53-3b7aea6125d6",
   "metadata": {},
   "source": [
    "## <span style=\"color:red\">__Qüestió 11__</span> - Codi utilitzat\n",
    "\n",
    "Quan tingueu el codi anterior depurat, copieu-lo i enganxeu-lo a l'espai de la pregunta 11 del qüestionari."
   ]
  },
  {
   "cell_type": "markdown",
   "id": "41f23d0c-e3a5-483d-a89b-f56f37a91650",
   "metadata": {},
   "source": [
    "----\n",
    "\n",
    "<h1 align=\"center\">Final de l'enunciat de les parts 1, 2 i 3<h1/>\n",
    "<h3 align=\"center\">Podeu continuar amb el qüestionari de la part 4<h3/>\n",
    "\n",
    "----"
   ]
  }
 ],
 "metadata": {
  "kernelspec": {
   "display_name": "Python 3 (ipykernel)",
   "language": "python",
   "name": "python3"
  },
  "language_info": {
   "codemirror_mode": {
    "name": "ipython",
    "version": 3
   },
   "file_extension": ".py",
   "mimetype": "text/x-python",
   "name": "python",
   "nbconvert_exporter": "python",
   "pygments_lexer": "ipython3",
   "version": "3.12.4"
  },
  "toc-autonumbering": false
 },
 "nbformat": 4,
 "nbformat_minor": 5
}
