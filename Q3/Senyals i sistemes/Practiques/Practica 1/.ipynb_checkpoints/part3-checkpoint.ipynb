{
 "cells": [
  {
   "cell_type": "code",
   "execution_count": 1,
   "id": "8489d486-eab3-4a56-832f-503c62e19a9b",
   "metadata": {},
   "outputs": [
    {
     "name": "stdout",
     "output_type": "stream",
     "text": [
      "La longitud del patró és de 13 mostres\n",
      "[ 0.99933354 -0.99805194 -1.00003466  1.00083476  1.00123022  0.99818125\n",
      " -1.00051383  1.00172651 -0.99937743 -0.99940519  1.00085349  0.99923539\n",
      "  0.99941346]\n",
      "El patró es troba a la posició 658 dins del senyal\n"
     ]
    }
   ],
   "source": [
    "# Importem la funció «correlate» de la biblioteca SciPy\n",
    "import numpy as np\n",
    "from scipy.signal import correlate\n",
    "\n",
    "# Carreguem els senyals. \n",
    "senyals = np.load('senyals.npy')\n",
    "\n",
    "# Definim el patró i calculem la seva longitud. Serà útil més endavant.\n",
    "patro = np.array([1, -1, -1, 1, 1, 1, -1, 1, -1, -1, 1, 1, 1])\n",
    "M = len(patro)\n",
    "print('La longitud del patró és de {} mostres'.format(M))\n",
    "\n",
    "# Escollim la seqüència \n",
    "seq = 6       # *** CANVIEU AQUEST VALOR SEGONS L'ENUNCIAT DE LA PREGUNTA ***\n",
    "x = senyals[seq]\n",
    "\n",
    "# Busqueu el patró dins el senyal «x»\n",
    "r = correlate(x, patro, mode = \"valid\")\n",
    "index_patro = np.argmax(r)\n",
    "\n",
    "print(x[index_patro:index_patro + M])\n",
    "\n",
    "# Imprimiu el resultat\n",
    "print('El patró es troba a la posició {} dins del senyal'.format(index_patro))"
   ]
  },
  {
   "cell_type": "code",
   "execution_count": null,
   "id": "95a9ee62-2619-4bbf-bd5f-2779fabb030e",
   "metadata": {},
   "outputs": [],
   "source": []
  }
 ],
 "metadata": {
  "kernelspec": {
   "display_name": "Python 3 (ipykernel)",
   "language": "python",
   "name": "python3"
  },
  "language_info": {
   "codemirror_mode": {
    "name": "ipython",
    "version": 3
   },
   "file_extension": ".py",
   "mimetype": "text/x-python",
   "name": "python",
   "nbconvert_exporter": "python",
   "pygments_lexer": "ipython3",
   "version": "3.12.4"
  }
 },
 "nbformat": 4,
 "nbformat_minor": 5
}
